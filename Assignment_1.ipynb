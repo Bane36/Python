{
  "nbformat": 4,
  "nbformat_minor": 0,
  "metadata": {
    "colab": {
      "provenance": []
    },
    "kernelspec": {
      "name": "python3",
      "display_name": "Python 3"
    },
    "language_info": {
      "name": "python"
    }
  },
  "cells": [
    {
      "cell_type": "markdown",
      "source": [
        "Q1. Write a Python Program to accept the details of a student like name, roll number and mark and display it.\n",
        "\n",
        "Sample input: \n",
        "\n",
        "Enter the name: Anisha\n",
        "\n",
        "Enter the roll number: 21\n",
        "\n",
        "Enter the mark: 78\n",
        "\n",
        "Sample output:\n",
        "\n",
        "Name: Anisha\n",
        "\n",
        "Roll No: 21\n",
        "\n",
        "Mark: 78"
      ],
      "metadata": {
        "id": "GcB6QkZvj0nu"
      }
    },
    {
      "cell_type": "code",
      "execution_count": 2,
      "metadata": {
        "colab": {
          "base_uri": "https://localhost:8080/"
        },
        "id": "xtlmsqmnjwMU",
        "outputId": "77d6b1d1-f1c9-4b0c-c61e-d534973758f8"
      },
      "outputs": [
        {
          "output_type": "stream",
          "name": "stdout",
          "text": [
            "Enter the Name: Aflah\n",
            "Enter the roll number: 2\n",
            "Enter the mark: 63\n",
            "Name:  Aflah\n",
            "Roll No;  2\n",
            "Mark:  63\n"
          ]
        }
      ],
      "source": [
        "name = input('Enter the Name: ')\n",
        "roll_no = int(input('Enter the roll number: '))\n",
        "mark = int(input('Enter the mark: '))\n",
        "print(\"Name: \", name)\n",
        "print('Roll No; ', roll_no)\n",
        "print('Mark: ', mark)"
      ]
    },
    {
      "cell_type": "markdown",
      "source": [
        "Q2. Write a Python program to convert temperatures to and from Celsius Fahrenheit. \n",
        "\n",
        "[Formula: c/5=f-32/9 where c=temperature in Celsius and f= temperature in Fahrenheit.] \n",
        "\n",
        "Sample input: \n",
        "\n",
        "Temperature in Fahrenheit =41 \n",
        "\n",
        "Sample output: \n",
        "\n",
        "Temperature in Celsius =5"
      ],
      "metadata": {
        "id": "T1RzRBXElldN"
      }
    },
    {
      "cell_type": "code",
      "source": [
        "f = int(input('Temperatur in Fahrenheit = '))\n",
        "c = (f-32)*5/9\n",
        "print('Temperature in Celsius = ', c)"
      ],
      "metadata": {
        "colab": {
          "base_uri": "https://localhost:8080/"
        },
        "id": "VwuKLe7ElkiC",
        "outputId": "5cbfc210-53b5-4765-b09d-63dc3bd983ea"
      },
      "execution_count": 5,
      "outputs": [
        {
          "output_type": "stream",
          "name": "stdout",
          "text": [
            "Temperatur in Fahrenheit = 88\n",
            "Temperature in Celsius =  31.11111111111111\n"
          ]
        }
      ]
    },
    {
      "cell_type": "markdown",
      "source": [
        "Q3. Write a Python program to accept two numbers from the user and display\n",
        "its product."
      ],
      "metadata": {
        "id": "VUde6YVatCuv"
      }
    },
    {
      "cell_type": "code",
      "source": [
        "a = int(input('Enter first number: '))\n",
        "b = int(input('Enter second number: '))\n",
        "c = a*b\n",
        "print('product of given two number is', c)"
      ],
      "metadata": {
        "colab": {
          "base_uri": "https://localhost:8080/"
        },
        "id": "vPOG-wE7tBG5",
        "outputId": "94948b28-efc3-4d87-c971-490326116b56"
      },
      "execution_count": 7,
      "outputs": [
        {
          "output_type": "stream",
          "name": "stdout",
          "text": [
            "Enter first number: 5\n",
            "Enter second number: 5\n",
            "product of given two number is 25\n"
          ]
        }
      ]
    },
    {
      "cell_type": "markdown",
      "source": [
        "Q4. Write a Python program to accept a string “Learn Python by Developing a\n",
        "Website” and display the string like “Learn ** Python ** by Developing a\n",
        "** Website **”"
      ],
      "metadata": {
        "id": "e1WIN18TtqJu"
      }
    },
    {
      "cell_type": "code",
      "source": [
        "inp = 'Learn Python by Developing a Website'\n",
        "rep = inp.replace(' Python','**Python**').replace('Website','**Website**')\n",
        "print(rep)"
      ],
      "metadata": {
        "colab": {
          "base_uri": "https://localhost:8080/"
        },
        "id": "4gFQNmaBtplQ",
        "outputId": "a3a0d6e6-25a7-4750-8757-3136b6180f46"
      },
      "execution_count": 24,
      "outputs": [
        {
          "output_type": "stream",
          "name": "stdout",
          "text": [
            "Learn**Python** by Developing a **Website**\n"
          ]
        }
      ]
    },
    {
      "cell_type": "markdown",
      "source": [
        "Q5. Write a Python program to accept the radius of a circle and display its area."
      ],
      "metadata": {
        "id": "j43Lx8-OvlZ9"
      }
    },
    {
      "cell_type": "code",
      "source": [
        "import math\n",
        "r = int(input('Enter radius: '))\n",
        "area = math.pi*r**2\n",
        "print('Area of Circle = ', area)"
      ],
      "metadata": {
        "colab": {
          "base_uri": "https://localhost:8080/"
        },
        "id": "bdG0sY1qve8b",
        "outputId": "d6cfb0c9-6ddd-44e5-a675-f49e79f5366e"
      },
      "execution_count": 9,
      "outputs": [
        {
          "output_type": "stream",
          "name": "stdout",
          "text": [
            "Enter radius: 4\n",
            "Area of Circle =  50.26548245743669\n"
          ]
        }
      ]
    },
    {
      "cell_type": "markdown",
      "source": [
        "Q6. Python program to insert a number to any position in a list (Get the number to be inserted and position from the user)"
      ],
      "metadata": {
        "id": "ZgmelkVPwht3"
      }
    },
    {
      "cell_type": "code",
      "source": [
        "num = [1,2,3,5,6]\n",
        "print('Before Update List\\n', num)\n",
        "ins = int(input('Enter a number to insert: '))\n",
        "pos = int(input('Enter position to be insert: '))\n",
        "num.insert(pos, ins)\n",
        "print('Updated List\\n', num)"
      ],
      "metadata": {
        "colab": {
          "base_uri": "https://localhost:8080/"
        },
        "id": "LmRm8rj_whAW",
        "outputId": "62bdb0e2-a329-4e7f-9c03-337176dc0e3a"
      },
      "execution_count": 15,
      "outputs": [
        {
          "output_type": "stream",
          "name": "stdout",
          "text": [
            "Before Update List\n",
            " [1, 2, 3, 5, 6]\n",
            "Enter a number to insert: 4\n",
            "Enter position to be insert: 3\n",
            "Updated List\n",
            " [1, 2, 3, 4, 5, 6]\n"
          ]
        }
      ]
    },
    {
      "cell_type": "markdown",
      "source": [
        "Q7. Write a program to rename a key city to a location in the following dictionary.\n",
        "\n",
        "sample_dict = { \"name\": \"John\", \"age\":5, \"salary\": 8000, \"city\": \"New York\"}"
      ],
      "metadata": {
        "id": "Xs67m06az9-v"
      }
    },
    {
      "cell_type": "code",
      "source": [
        "sample_dict = { \"name\": \"John\", \"age\":5, \"salary\": 8000, \"city\": \"New York\"}\n",
        "print('Before renaming\\n',sample_dict)\n",
        "sample_dict['location'] = sample_dict.pop('city')\n",
        "print('Dictionary after renaming\\n',sample_dict)"
      ],
      "metadata": {
        "colab": {
          "base_uri": "https://localhost:8080/"
        },
        "id": "wALa0Oitz9bV",
        "outputId": "b211dce6-3175-471b-d190-6970e151c924"
      },
      "execution_count": 17,
      "outputs": [
        {
          "output_type": "stream",
          "name": "stdout",
          "text": [
            "Before renaming\n",
            " {'name': 'John', 'age': 5, 'salary': 8000, 'city': 'New York'}\n",
            "Dictionary after renaming\n",
            " {'name': 'John', 'age': 5, 'salary': 8000, 'location': 'New York'}\n"
          ]
        }
      ]
    },
    {
      "cell_type": "markdown",
      "source": [
        "Q8. Write a Python program to change Brad’s salary to 8500 in the following dictionary.\n",
        "\n",
        "sample_dict = {\n",
        "'emp1': {'name': 'John', 'salary': 7500},\n",
        "'emp2': {'name': 'Emma', 'salary': 8000},\n",
        "'emp3': {'name': 'Brad', 'salary': 500}\n",
        "}"
      ],
      "metadata": {
        "id": "agxT_h7T3QRV"
      }
    },
    {
      "cell_type": "code",
      "source": [
        "sample_dict = { \n",
        "    'emp1': {'name': 'John', 'salary': 7500}, \n",
        "    'emp2': {'name': 'Emma', 'salary': 8000}, \n",
        "    'emp3': {'name': 'Brad', 'salary': 500} }\n",
        "print('Before salary change\\n', sample_dict)\n",
        "sample_dict['emp3']['salary'] = 8500\n",
        "print('After salary change\\n', sample_dict)"
      ],
      "metadata": {
        "colab": {
          "base_uri": "https://localhost:8080/"
        },
        "id": "IZqHH8Lw3PhC",
        "outputId": "4743bed6-1433-47e6-d49f-5bd9843fa43b"
      },
      "execution_count": 18,
      "outputs": [
        {
          "output_type": "stream",
          "name": "stdout",
          "text": [
            "Before salary change\n",
            " {'emp1': {'name': 'John', 'salary': 7500}, 'emp2': {'name': 'Emma', 'salary': 8000}, 'emp3': {'name': 'Brad', 'salary': 500}}\n",
            "After salary change\n",
            " {'emp1': {'name': 'John', 'salary': 7500}, 'emp2': {'name': 'Emma', 'salary': 8000}, 'emp3': {'name': 'Brad', 'salary': 8500}}\n"
          ]
        }
      ]
    },
    {
      "cell_type": "markdown",
      "source": [
        "Q9. Write a program to copy elements 43 and 54 from the following tuple into a new tuple. \n",
        "\n",
        "Given:\n",
        "\n",
        "tuple1 = (10, 20, 43, 54, 56, 68)"
      ],
      "metadata": {
        "id": "jiFwuA-w5nQk"
      }
    },
    {
      "cell_type": "code",
      "source": [
        "tuple1 = (10, 20, 43, 54, 56, 68)\n",
        "print(tuple1)\n",
        "tuple2 = (tuple1[2], tuple1[3])\n",
        "print(tuple2)"
      ],
      "metadata": {
        "colab": {
          "base_uri": "https://localhost:8080/"
        },
        "id": "XQ4lqjlF5d7D",
        "outputId": "4275f91f-5762-4d9c-d739-32a9969e1290"
      },
      "execution_count": 20,
      "outputs": [
        {
          "output_type": "stream",
          "name": "stdout",
          "text": [
            "(10, 20, 43, 54, 56, 68)\n",
            "(43, 54)\n"
          ]
        }
      ]
    },
    {
      "cell_type": "markdown",
      "source": [
        "Q10. Counts the number of occurrences of item 50 from a tuple\n",
        "\n",
        "tuple1 = (50, 10, 60, 70, 50,83,567,50,81)"
      ],
      "metadata": {
        "id": "MKCybK-h7OyS"
      }
    },
    {
      "cell_type": "code",
      "source": [
        "tup1 = (50, 10, 60, 70, 50,83,567,50,81)\n",
        "print(tup1)\n",
        "print('total occurrences of item 50 =',tup1.count(50))"
      ],
      "metadata": {
        "colab": {
          "base_uri": "https://localhost:8080/"
        },
        "id": "-wSgquP67C5P",
        "outputId": "73e2b6c1-6b10-4c02-daf6-6840de778ab8"
      },
      "execution_count": 22,
      "outputs": [
        {
          "output_type": "stream",
          "name": "stdout",
          "text": [
            "(50, 10, 60, 70, 50, 83, 567, 50, 81)\n",
            "total occurrences of item 50 = 3\n"
          ]
        }
      ]
    }
  ]
}