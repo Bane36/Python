{
 "cells": [
  {
   "cell_type": "markdown",
   "id": "c4e017fa",
   "metadata": {},
   "source": [
    "# Q1. Write an interactive Python Program to implement following “Guess Game”\n",
    "i. Think of a number between 1 and 10 and store it in a variable called \"secretNumber\".\n",
    "\n",
    "ii. Ask the user to enter a number between 1 and 10 and store it in a variable called \"guess\".\n",
    "\n",
    "iii. Use control statements (if-else) to check if the guess is correct, higher, or lower than the secret number.\n",
    "\n",
    "iv. Display appropriate messages to the user based on their guess:\n",
    "\n",
    "\t• If the guess is correct, display \"Congratulations! You guessed the number correctly!\"\n",
    "\n",
    "\t• If the guess is higher than the secret number, display \"Too high! Try again.\"\n",
    "\n",
    "\t• If the guess is lower than the secret number, display \"Too low! Try again.\"\n",
    "\n",
    "v. Allow the user to keep guessing until they guess the correct number."
   ]
  },
  {
   "cell_type": "code",
   "execution_count": 37,
   "id": "b48ea117",
   "metadata": {},
   "outputs": [
    {
     "name": "stdout",
     "output_type": "stream",
     "text": [
      "Enter a number between 1 and 10: 1\n",
      "Too low! Try again.\n",
      "Enter a number between 1 and 10: 9\n",
      "Too high! Try again.\n",
      "Enter a number between 1 and 10: 5\n",
      "Too high! Try again.\n",
      "Enter a number between 1 and 10: 3\n",
      "Too low! Try again.\n",
      "Enter a number between 1 and 10: 4\n",
      "Congratulations! You guessed the number correctly!\n"
     ]
    }
   ],
   "source": [
    "import random\n",
    "secretNumber = random.randint(1,10)\n",
    "while True:\n",
    "    guess = int(input('Enter a number between 1 and 10: '))\n",
    "    if guess == secretNumber:\n",
    "        print('Congratulations! You guessed the number correctly!')\n",
    "        break\n",
    "    elif guess > secretNumber:\n",
    "        print('Too high! Try again.')\n",
    "    else:\n",
    "        print('Too low! Try again.')"
   ]
  },
  {
   "cell_type": "markdown",
   "id": "164cc080",
   "metadata": {},
   "source": [
    "# Q2. Write a program to find and print the Factorial of this number. The Factorial of a positive integer N refers to the product of all number in the range from 1 to N."
   ]
  },
  {
   "cell_type": "code",
   "execution_count": 33,
   "id": "59d4f0bc",
   "metadata": {},
   "outputs": [
    {
     "name": "stdout",
     "output_type": "stream",
     "text": [
      "Enter a number to find factorial: 4\n",
      "24\n"
     ]
    }
   ],
   "source": [
    "N = int(input('Enter a number to find factorial: '))\n",
    "fact = 1\n",
    "for i in range(1,N+1):\n",
    "    fact = fact*i\n",
    "print(fact)"
   ]
  },
  {
   "cell_type": "markdown",
   "id": "d3ea775b",
   "metadata": {},
   "source": [
    "# Q3. Roy wants to change his profile picture on Facebook. Now Facebook has some restriction over the dimension of picture that we can upload. Minimum dimension of the picture can be L x L, where L is the length of the side of square. Now Roy has N photos of various dimensions. Dimension of a photo is denoted as W x H where W - width of the photo and H - Height of the photo \n",
    " \n",
    "• When any photo is uploaded following events may occur: \n",
    "    \n",
    "    [1] If any of the width or height is less than L, user is prompted to upload another one. Print \"UPLOAD ANOTHER\" in this case.\n",
    "      \n",
    "    [2] If width and height, both are large enough and\n",
    "\n",
    "(a) if the photo is already square then it is accepted. Print \"ACCEPTED\" in this\n",
    "case.\n",
    "\n",
    "(b) else user is prompted to crop it. Print \"CROP IT\" in this case.\n",
    "Given L, N, W and H as input, write a program to print appropriate text as output."
   ]
  },
  {
   "cell_type": "code",
   "execution_count": 34,
   "id": "370bda70",
   "metadata": {},
   "outputs": [
    {
     "name": "stdout",
     "output_type": "stream",
     "text": [
      "Enter number of Photos: 4\n",
      "Minimum length of Photo: 3\n",
      "Width of Photo: 5\n",
      "Height of Photo: 6\n",
      "CROP IT\n",
      "Width of Photo: 2\n",
      "Height of Photo: 2\n",
      "UPLOAD ANOTHER\n",
      "Width of Photo: 3\n",
      "Height of Photo: 3\n",
      "ACCEPTED\n",
      "Width of Photo: 4\n",
      "Height of Photo: 3\n",
      "CROP IT\n"
     ]
    }
   ],
   "source": [
    "N = int(input('Enter number of Photos: '))\n",
    "L = int(input('Minimum length of Photo: '))\n",
    "for i in range(N):\n",
    "    W = int(input('Width of Photo: '))\n",
    "    H = int(input('Height of Photo: '))\n",
    "    if W < L or H < L:\n",
    "        print('UPLOAD ANOTHER')\n",
    "    elif W == H:\n",
    "        print('ACCEPTED')\n",
    "    else:\n",
    "        print('CROP IT')"
   ]
  }
 ],
 "metadata": {
  "kernelspec": {
   "display_name": "Python 3 (ipykernel)",
   "language": "python",
   "name": "python3"
  },
  "language_info": {
   "codemirror_mode": {
    "name": "ipython",
    "version": 3
   },
   "file_extension": ".py",
   "mimetype": "text/x-python",
   "name": "python",
   "nbconvert_exporter": "python",
   "pygments_lexer": "ipython3",
   "version": "3.10.9"
  }
 },
 "nbformat": 4,
 "nbformat_minor": 5
}
